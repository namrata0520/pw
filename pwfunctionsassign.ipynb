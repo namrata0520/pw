{
  "nbformat": 4,
  "nbformat_minor": 0,
  "metadata": {
    "colab": {
      "provenance": []
    },
    "kernelspec": {
      "name": "python3",
      "display_name": "Python 3"
    },
    "language_info": {
      "name": "python"
    }
  },
  "cells": [
    {
      "cell_type": "code",
      "execution_count": null,
      "metadata": {
        "id": "mGr8ikrbW3zV"
      },
      "outputs": [],
      "source": [
        "# 1. Difference Between a Function and a Method in Python:\n",
        "# Function: A function is a block of reusable code that performs a specific task. It is defined using the def keyword and can be called by its name. A function may or may not be associated with an object.\n",
        "\n",
        "# Example:\n",
        "\n",
        "# def my_function():\n",
        "#     print(\"Hello, world!\")\n",
        "# Method: A method is a function that is associated with an object or a class. It is called on an object or class instance and often modifies or interacts with the data within that object.\n",
        "\n",
        "# Example:\n",
        "\n",
        "# class MyClass:\n",
        "#     def my_method(self):\n",
        "#         print(\"Hello from method!\")\n",
        "\n",
        "# obj = MyClass()\n",
        "# obj.my_method()  # This is calling a method"
      ]
    },
    {
      "cell_type": "code",
      "source": [
        "# 2. Function Arguments and Parameters in Python:\n",
        "# Parameters: Parameters are the names used when defining a function to specify what type of input it expects. These act as placeholders for the arguments.\n",
        "\n",
        "# Example:\n",
        "\n",
        "# def my_function(a, b):  # a and b are parameters\n",
        "#     return a + b\n",
        "# Arguments: Arguments are the actual values passed to the function when calling it. They correspond to the parameters in the function definition.\n",
        "\n",
        "# Example:\n",
        "\n",
        "# result = my_function(5, 10)  # 5 and 10 are arguments"
      ],
      "metadata": {
        "id": "oTOUocsSW6Le"
      },
      "execution_count": null,
      "outputs": []
    },
    {
      "cell_type": "code",
      "source": [
        "# Different Ways to Define and Call a Function in Python:\n",
        "# Defining a function: You can define a function using the def keyword.\n",
        "\n",
        "# def my_function():\n",
        "#     print(\"Hello\")\n",
        "# #Calling a function: You call a function by using its name followed by parentheses.\n",
        "\n",
        "# my_function()  ## Calling the function\n",
        "## Lambda function: A lambda function is an anonymous function defined using lambda keyword.\n",
        "\n",
        "# add = lambda x, y: x + y\n",
        "# print(add(5, 3))  # Output: 8\n",
        "\n",
        "# Function with default arguments:\n",
        "\n",
        "# def greet(name=\"User\"):\n",
        "#     print(f\"Hello, {name}\")\n",
        "# greet()  # Output: Hello, User"
      ],
      "metadata": {
        "id": "9sxV2IToW6PG"
      },
      "execution_count": null,
      "outputs": []
    },
    {
      "cell_type": "code",
      "source": [
        "# 4. Purpose of the return Statement in a Python Function:\n",
        "# The return statement is used to send a result from a function back to the caller. When the return statement is executed, the function terminates, and the value after return is returned to the caller.\n",
        "\n",
        "# Example:\n",
        "\n",
        "\n",
        "# def add(a, b):\n",
        "#     return a + b\n",
        "\n",
        "# result = add(5, 3)  # result will be 8"
      ],
      "metadata": {
        "id": "D0D8xPLYW6Se"
      },
      "execution_count": null,
      "outputs": []
    },
    {
      "cell_type": "code",
      "source": [
        "# 5. Iterators in Python and How They Differ from Iterables:\n",
        "# Iterable: An iterable is an object that can return an iterator. It implements the __iter__() method, which returns an iterator object. Examples of iterables are lists, tuples, and strings.\n",
        "\n",
        "# Example:\n",
        "\n",
        "my_list = [1, 2, 3]\n",
        "# Iterator: An iterator is an object that represents a stream of data. It implements two methods: __iter__() and __next__(). The __next__() method returns the next item in the sequence.\n",
        "\n",
        "# Example:\n",
        "\n",
        "my_list = [1, 2, 3]\n",
        "my_iter = iter(my_list)  # my_iter is an iterator\n",
        "print(next(my_iter))  # Output: 1"
      ],
      "metadata": {
        "colab": {
          "base_uri": "https://localhost:8080/"
        },
        "id": "fPTmsxxWW6V9",
        "outputId": "68b09145-51e3-419f-dce1-12ac0199e264"
      },
      "execution_count": 5,
      "outputs": [
        {
          "output_type": "stream",
          "name": "stdout",
          "text": [
            "1\n"
          ]
        }
      ]
    },
    {
      "cell_type": "code",
      "source": [
        "# 6 .Concept of Generators in Python and How They Are Defined:\n",
        "# A generator is a special type of iterator that generates values on the fly using the yield keyword instead of returning them all at once. It allows you to iterate over potentially large datasets without using much memory.\n",
        "\n",
        "# Example:\n",
        "\n",
        "def my_generator():\n",
        "    yield 1\n",
        "    yield 2\n",
        "    yield 3\n",
        "\n",
        "gen = my_generator()\n",
        "for value in gen:\n",
        "    print(value)"
      ],
      "metadata": {
        "colab": {
          "base_uri": "https://localhost:8080/"
        },
        "id": "s71ysUDaW6ZY",
        "outputId": "fc680381-4bef-48fd-d3ad-7713c711709c"
      },
      "execution_count": 4,
      "outputs": [
        {
          "output_type": "stream",
          "name": "stdout",
          "text": [
            "1\n",
            "2\n",
            "3\n"
          ]
        }
      ]
    },
    {
      "cell_type": "code",
      "source": [
        "# 7. Advantages of Using Generators Over Regular Functions:\n",
        "# Memory Efficient: Generators do not store all the values in memory at once.\n",
        "# Instead, they generate values on demand, making them more memory-efficient, especially for large datasets.\n",
        "\n",
        "# Lazy Evaluation: Values are generated one at a time, only when needed.\n",
        "\n",
        "# Better Performance: Because they generate items lazily.\n",
        "# they can provide a significant performance boost when dealing with large streams of data."
      ],
      "metadata": {
        "id": "qmIepBnhW6c8"
      },
      "execution_count": 6,
      "outputs": []
    },
    {
      "cell_type": "code",
      "source": [
        "# 8. Lambda Function in Python and When It Is Typically Used:\n",
        "# A lambda function is an anonymous function defined using the lambda keyword. It can have any number of arguments but only one expression. Lambda functions are often used for short-term operations or when passing functions as arguments to other functions.\n",
        "\n",
        "# Example:\n",
        "\n",
        "multiply = lambda x, y: x * y\n",
        "print(multiply(4, 5))  # Output: 20\n",
        "# Common use cases include:\n",
        "\n",
        "# As an argument to functions like map(), filter(), and sorted()."
      ],
      "metadata": {
        "id": "XEVN5euhW6gj"
      },
      "execution_count": null,
      "outputs": []
    },
    {
      "cell_type": "code",
      "source": [
        "# 9. Purpose and Usage of the map() Function in Python:\n",
        "# The map() function applies a given function to all items in an iterable (such as a list) and returns an iterator of the results.\n",
        "\n",
        "# Example:\n",
        "\n",
        "\n",
        "numbers = [1, 2, 3, 4]\n",
        "squared = map(lambda x: x**2, numbers)\n",
        "print(list(squared))  # Output: [1, 4, 9, 16]"
      ],
      "metadata": {
        "colab": {
          "base_uri": "https://localhost:8080/"
        },
        "id": "TqspX4u-W6kR",
        "outputId": "704e49d1-4570-41ca-8687-5515af055147"
      },
      "execution_count": 7,
      "outputs": [
        {
          "output_type": "stream",
          "name": "stdout",
          "text": [
            "[1, 4, 9, 16]\n"
          ]
        }
      ]
    },
    {
      "cell_type": "code",
      "source": [
        "# 10. Difference Between map(), reduce(), and filter() Functions in Python:\n",
        "# map(): Applies a function to all items in an iterable and returns a new iterable with the results.\n",
        "\n",
        "# Example:\n",
        "# func = lambda x: x * 2\n",
        "# result = map(func, iterable)\n",
        "# # filter(): Applies a function to each item in an iterable, returning only the items that evaluate to True (i.e., passing the condition).\n",
        "\n",
        "# # Example:\n",
        "# result = filter(func, iterable)\n",
        "# reduce(): Takes a function and a sequence and applies the function cumulatively to the items of the sequence, reducing the sequence to a single value. reduce() is available in the functools module.\n",
        "\n",
        "# Example:\n",
        "from functools import reduce\n",
        "result = reduce(lambda x, y: x + y, [1, 2, 3, 4])  # Output: 10\n",
        "# Summary:\n",
        "# map(): Transforms items.\n",
        "# filter(): Filters items based on a condition.\n",
        "# reduce(): Reduces items to a single value by cumulatively applying a function"
      ],
      "metadata": {
        "id": "qy0Awm4-W6ow"
      },
      "execution_count": 11,
      "outputs": []
    },
    {
      "cell_type": "code",
      "source": [
        "print(\"Practical Questions\")"
      ],
      "metadata": {
        "colab": {
          "base_uri": "https://localhost:8080/"
        },
        "id": "XwK-kICPdO4E",
        "outputId": "71c1022b-04c8-406d-f056-caa599db36b8"
      },
      "execution_count": 19,
      "outputs": [
        {
          "output_type": "stream",
          "name": "stdout",
          "text": [
            "Practical Questions\n"
          ]
        }
      ]
    },
    {
      "cell_type": "code",
      "source": [
        "# 1. Python Function to Sum All Even Numbers in a List\n",
        "\n",
        "def sum_of_even_numbers(numbers):\n",
        "    return sum(num for num in numbers if num % 2 == 0)\n",
        "\n",
        "# Example usage:\n",
        "numbers = [1, 2, 3, 4, 5, 6]\n",
        "print(sum_of_even_numbers(numbers))"
      ],
      "metadata": {
        "colab": {
          "base_uri": "https://localhost:8080/"
        },
        "id": "zXp_rTosW6y2",
        "outputId": "cfb98dcf-3e7f-4480-f4fa-383011c21616"
      },
      "execution_count": 13,
      "outputs": [
        {
          "output_type": "stream",
          "name": "stdout",
          "text": [
            "12\n"
          ]
        }
      ]
    },
    {
      "cell_type": "code",
      "source": [
        "# 2. Python Function to Reverse a String\n",
        "\n",
        "def reverse_string(s):\n",
        "    return s[::-1]\n",
        "\n",
        "# Example usage:\n",
        "string = \"hello\"\n",
        "print(reverse_string(string))  # Output: \"olleh\""
      ],
      "metadata": {
        "colab": {
          "base_uri": "https://localhost:8080/"
        },
        "id": "MZ8NJwXZZU43",
        "outputId": "67e48b47-3981-468d-f5e0-c39ee2621f96"
      },
      "execution_count": 12,
      "outputs": [
        {
          "output_type": "stream",
          "name": "stdout",
          "text": [
            "olleh\n"
          ]
        }
      ]
    },
    {
      "cell_type": "code",
      "source": [
        "#3. Python Function to Return a List of Squares of Integers\n",
        "\n",
        "def square_numbers(numbers):\n",
        "    return [num ** 2 for num in numbers]\n",
        "\n",
        "# Example usage:\n",
        "numbers = [1, 2, 3, 4]\n",
        "print(square_numbers(numbers))  # Output: [1, 4, 9, 16]"
      ],
      "metadata": {
        "colab": {
          "base_uri": "https://localhost:8080/"
        },
        "id": "uiuWF4YiZVFT",
        "outputId": "d15c5fe5-cca6-4704-de7e-ca2a127bddd2"
      },
      "execution_count": 14,
      "outputs": [
        {
          "output_type": "stream",
          "name": "stdout",
          "text": [
            "[1, 4, 9, 16]\n"
          ]
        }
      ]
    },
    {
      "cell_type": "code",
      "source": [
        "# 4. Python Function to Check if a Number is Prime (1 to 200)\n",
        "\n",
        "def is_prime(n):\n",
        "    if n < 2:\n",
        "        return False\n",
        "    for i in range(2, int(n ** 0.5) + 1):\n",
        "        if n % i == 0:\n",
        "            return False\n",
        "    return True\n",
        "\n",
        "# Example usage:\n",
        "for number in range(1, 201):\n",
        "    if is_prime(number):\n",
        "        print(number)"
      ],
      "metadata": {
        "colab": {
          "base_uri": "https://localhost:8080/"
        },
        "id": "7MD1Vh4TZVN5",
        "outputId": "edb04c43-a1dd-4fd0-bb93-c49a62866714"
      },
      "execution_count": 15,
      "outputs": [
        {
          "output_type": "stream",
          "name": "stdout",
          "text": [
            "2\n",
            "3\n",
            "5\n",
            "7\n",
            "11\n",
            "13\n",
            "17\n",
            "19\n",
            "23\n",
            "29\n",
            "31\n",
            "37\n",
            "41\n",
            "43\n",
            "47\n",
            "53\n",
            "59\n",
            "61\n",
            "67\n",
            "71\n",
            "73\n",
            "79\n",
            "83\n",
            "89\n",
            "97\n",
            "101\n",
            "103\n",
            "107\n",
            "109\n",
            "113\n",
            "127\n",
            "131\n",
            "137\n",
            "139\n",
            "149\n",
            "151\n",
            "157\n",
            "163\n",
            "167\n",
            "173\n",
            "179\n",
            "181\n",
            "191\n",
            "193\n",
            "197\n",
            "199\n"
          ]
        }
      ]
    },
    {
      "cell_type": "code",
      "source": [
        "#5. Iterator Class to Generate Fibonacci Sequence\n",
        "\n",
        "class FibonacciIterator:\n",
        "    def __init__(self, n):\n",
        "        self.n = n\n",
        "        self.a, self.b = 0, 1\n",
        "        self.count = 0\n",
        "\n",
        "    def __iter__(self):\n",
        "        return self\n",
        "\n",
        "    def __next__(self):\n",
        "        if self.count >= self.n:\n",
        "            raise StopIteration\n",
        "        self.a, self.b = self.b, self.a + self.b\n",
        "        self.count += 1\n",
        "        return self.a\n",
        "\n",
        "# Example usage:\n",
        "fib = FibonacciIterator(10)\n",
        "for num in fib:\n",
        "    print(num)"
      ],
      "metadata": {
        "colab": {
          "base_uri": "https://localhost:8080/"
        },
        "id": "aipBcmskZVSK",
        "outputId": "dd9b603a-d322-4b92-cfad-63469d906744"
      },
      "execution_count": 16,
      "outputs": [
        {
          "output_type": "stream",
          "name": "stdout",
          "text": [
            "1\n",
            "1\n",
            "2\n",
            "3\n",
            "5\n",
            "8\n",
            "13\n",
            "21\n",
            "34\n",
            "55\n"
          ]
        }
      ]
    },
    {
      "cell_type": "code",
      "source": [
        "#6. Generator Function to Yield Powers of 2 Up to a Given Exponent\n",
        "\n",
        "def powers_of_two(exponent):\n",
        "    for i in range(exponent + 1):\n",
        "        yield 2 ** i\n",
        "\n",
        "# Example usage:\n",
        "for power in powers_of_two(5):\n",
        "    print(power)"
      ],
      "metadata": {
        "colab": {
          "base_uri": "https://localhost:8080/"
        },
        "id": "STgsqWYRZVWu",
        "outputId": "fb501561-13d7-4987-c3bb-f388a47f535e"
      },
      "execution_count": 17,
      "outputs": [
        {
          "output_type": "stream",
          "name": "stdout",
          "text": [
            "1\n",
            "2\n",
            "4\n",
            "8\n",
            "16\n",
            "32\n"
          ]
        }
      ]
    },
    {
      "cell_type": "code",
      "source": [
        "#7. Generator Function to Read a File Line by Line\n",
        "\n",
        "def read_file_line_by_line(file_path):\n",
        "    with open(file_path, 'r') as file:\n",
        "        for line in file:\n",
        "            yield line.strip()  # Use strip() to remove newline character\n",
        "\n",
        "# Example usage:\n",
        "# Assuming 'sample.txt' is a file in the current directory\n",
        "for line in read_file_line_by_line('sample.txt'):\n",
        "    print(line)"
      ],
      "metadata": {
        "id": "KFCRokX4eFIB"
      },
      "execution_count": null,
      "outputs": []
    },
    {
      "cell_type": "code",
      "source": [
        "#8. Lambda Function to Sort a List of Tuples Based on the Second Element\n",
        "\n",
        "my_list = [(1, 'a'), (3, 'c'), (2, 'b')]\n",
        "\n",
        "sorted_list = sorted(my_list, key=lambda x: x[1])\n",
        "\n",
        "print(sorted_list)  # Output: [(1, 'a'), (2, 'b'), (3, 'c')]"
      ],
      "metadata": {
        "colab": {
          "base_uri": "https://localhost:8080/"
        },
        "id": "cyaM3pLMZVjq",
        "outputId": "9384908c-f8e3-4fd7-ae7e-8119925373f7"
      },
      "execution_count": 18,
      "outputs": [
        {
          "output_type": "stream",
          "name": "stdout",
          "text": [
            "[(1, 'a'), (2, 'b'), (3, 'c')]\n"
          ]
        }
      ]
    },
    {
      "cell_type": "code",
      "source": [
        "#9. Python Program to Convert Temperatures from Celsius to Fahrenheit Using map()\n",
        "\n",
        "def celsius_to_fahrenheit(celsius):\n",
        "    return (celsius * 9/5) + 32\n",
        "\n",
        "temperatures_celsius = [0, 10, 20, 30, 40]\n",
        "temperatures_fahrenheit = list(map(celsius_to_fahrenheit, temperatures_celsius))\n",
        "\n",
        "print(temperatures_fahrenheit)  # Output: [32.0, 50.0, 68.0, 86.0, 104.0]"
      ],
      "metadata": {
        "colab": {
          "base_uri": "https://localhost:8080/"
        },
        "id": "WH5MZ6JrZVoe",
        "outputId": "2d027a14-9193-4c92-b890-84c5153e3a86"
      },
      "execution_count": 21,
      "outputs": [
        {
          "output_type": "stream",
          "name": "stdout",
          "text": [
            "[32.0, 50.0, 68.0, 86.0, 104.0]\n"
          ]
        }
      ]
    },
    {
      "cell_type": "code",
      "source": [
        "#10. Python Program to Remove All Vowels from a Given String Using filter()\n",
        "\n",
        "def remove_vowels(s):\n",
        "    vowels = 'aeiouAEIOU'\n",
        "    return ''.join(filter(lambda x: x not in vowels, s))\n",
        "\n",
        "# Example usage:\n",
        "input_string = \"hello world\"\n",
        "output_string = remove_vowels(input_string)\n",
        "print(output_string)  # Output: \"hll wrld\""
      ],
      "metadata": {
        "colab": {
          "base_uri": "https://localhost:8080/"
        },
        "id": "dMr9DFFkZVyd",
        "outputId": "884b75dc-5d41-45e0-dac9-113e96c3b81a"
      },
      "execution_count": 22,
      "outputs": [
        {
          "output_type": "stream",
          "name": "stdout",
          "text": [
            "hll wrld\n"
          ]
        }
      ]
    },
    {
      "cell_type": "code",
      "source": [
        "# 11.using lambda and map\n",
        "def calculate_order_value(orders):\n",
        "    # Using map with lambda to calculate the total order value\n",
        "    result = list(map(lambda order: (\n",
        "        order[0],  # Order number\n",
        "        order[1] * order[2] + 10 if order[1] * order[2] < 100 else order[1] * order[2]  # Total price + 10€ if less than 100\n",
        "    ), orders))\n",
        "\n",
        "    return result\n",
        "\n",
        "\n",
        "orders = [\n",
        "    [1, 15.50, 3],  # Order 1: Price per item = 15.50€, Quantity = 3 -> Total = 46.50\n",
        "    [2, 25.00, 2],  # Order 2: Price per item = 25.00€, Quantity = 2 -> Total = 50.00\n",
        "    [3, 50.00, 1],  # Order 3: Price per item = 50.00€, Quantity = 1 -> Total = 50.00\n",
        "    [4, 120.00, 1], # Order 4: Price per item = 120.00€, Quantity = 1 -> Total = 120.00\n",
        "]\n",
        "\n",
        "# Calculate the order values\n",
        "order_values = calculate_order_value(orders)\n",
        "\n",
        "# Output the result\n",
        "print(order_values)\n"
      ],
      "metadata": {
        "colab": {
          "base_uri": "https://localhost:8080/"
        },
        "id": "2-JfvVbiZ5PD",
        "outputId": "bd446249-c594-4ff0-a71f-37af0613d468"
      },
      "execution_count": 3,
      "outputs": [
        {
          "output_type": "stream",
          "name": "stdout",
          "text": [
            "[(1, 56.5), (2, 60.0), (3, 60.0), (4, 120.0)]\n"
          ]
        }
      ]
    },
    {
      "cell_type": "code",
      "source": [],
      "metadata": {
        "id": "InSGUYM9alhu"
      },
      "execution_count": null,
      "outputs": []
    }
  ]
}